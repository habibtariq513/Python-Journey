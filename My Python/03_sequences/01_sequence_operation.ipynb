{
 "cells": [
  {
   "cell_type": "markdown",
   "id": "061d2626",
   "metadata": {},
   "source": [
    "# **Common Sequence Operations**"
   ]
  },
  {
   "cell_type": "markdown",
   "id": "a65e3a85",
   "metadata": {},
   "source": [
    "# 1) Length Operation"
   ]
  },
  {
   "cell_type": "code",
   "execution_count": 2,
   "id": "d379c2d6",
   "metadata": {},
   "outputs": [
    {
     "name": "stdout",
     "output_type": "stream",
     "text": [
      "5\n"
     ]
    }
   ],
   "source": [
    "my_list = [1, 2, 3, 4, 5]\n",
    "print(len(my_list))"
   ]
  },
  {
   "cell_type": "markdown",
   "id": "2ac79dba",
   "metadata": {},
   "source": [
    "# 2) Concatination"
   ]
  },
  {
   "cell_type": "code",
   "execution_count": 3,
   "id": "5f9ac283",
   "metadata": {},
   "outputs": [
    {
     "name": "stdout",
     "output_type": "stream",
     "text": [
      "[1, 2, 3, 4, 5, 6]\n"
     ]
    }
   ],
   "source": [
    "list_1 = [1, 2, 3]\n",
    "list_2 = [4, 5, 6]\n",
    "combo_list = list_1 + list_2\n",
    "\n",
    "print(combo_list)"
   ]
  },
  {
   "cell_type": "markdown",
   "id": "0c618d05",
   "metadata": {},
   "source": [
    "# 3) Membership Test"
   ]
  },
  {
   "cell_type": "code",
   "execution_count": 6,
   "id": "63fb1819",
   "metadata": {},
   "outputs": [
    {
     "name": "stdout",
     "output_type": "stream",
     "text": [
      "mango in fruit_list:  False\n",
      "mango not in fruit_list:  True\n",
      "banana in fruit_list:  True\n"
     ]
    }
   ],
   "source": [
    "fruit_list = [\"apple\", \"banana\", \"cherry\"]\n",
    "print(\"mango in fruit_list: \", \"mango\" in fruit_list)   \n",
    "print(\"mango not in fruit_list: \", \"mango\" not in fruit_list)\n",
    "print(\"banana in fruit_list: \", \"banana\" in fruit_list)   "
   ]
  },
  {
   "cell_type": "markdown",
   "id": "e235be42",
   "metadata": {},
   "source": [
    "# 4) Repetition"
   ]
  },
  {
   "cell_type": "code",
   "execution_count": 7,
   "id": "626c61c6",
   "metadata": {},
   "outputs": [
    {
     "name": "stdout",
     "output_type": "stream",
     "text": [
      "[3, 2, 1, 3, 2, 1]\n"
     ]
    }
   ],
   "source": [
    "my_list = [3, 2, 1]\n",
    "print(my_list * 2)\n"
   ]
  }
 ],
 "metadata": {
  "kernelspec": {
   "display_name": "python_basics",
   "language": "python",
   "name": "python3"
  },
  "language_info": {
   "codemirror_mode": {
    "name": "ipython",
    "version": 3
   },
   "file_extension": ".py",
   "mimetype": "text/x-python",
   "name": "python",
   "nbconvert_exporter": "python",
   "pygments_lexer": "ipython3",
   "version": "3.10.18"
  }
 },
 "nbformat": 4,
 "nbformat_minor": 5
}
