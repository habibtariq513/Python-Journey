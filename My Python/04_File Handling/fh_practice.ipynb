{
 "cells": [
  {
   "cell_type": "markdown",
   "id": "8ffc89ae",
   "metadata": {},
   "source": [
    "# Replace all JAVA words with PYTHON"
   ]
  },
  {
   "cell_type": "code",
   "execution_count": null,
   "id": "ed66f1db",
   "metadata": {},
   "outputs": [
    {
     "name": "stdout",
     "output_type": "stream",
     "text": [
      "Hi Everyone\n",
      "we are learning File I/O\n",
      "using Python.\n",
      "I like programming in Python\n"
     ]
    }
   ],
   "source": [
    "with open(\"fh_practice.txt\", \"w+\") as f:\n",
    "    f.write(\"Hi Everyone\\nwe are learning File I/O\\nusing Java.\\nI like programming in Java\")\n",
    "    f.seek(0)\n",
    "    data = f.read()\n",
    "    \n",
    "new_data = data.replace(\"Java\", \"Python\")\n",
    "print(new_data)\n",
    "\n",
    "with open(\"fh_practice.txt\", \"r+\") as f:\n",
    "    f.write(new_data)"
   ]
  },
  {
   "cell_type": "markdown",
   "id": "cdbfd31b",
   "metadata": {},
   "source": [
    "# Search word \"LEARNING\" in the string\n"
   ]
  },
  {
   "cell_type": "code",
   "execution_count": 24,
   "id": "25d1de35",
   "metadata": {},
   "outputs": [
    {
     "name": "stdout",
     "output_type": "stream",
     "text": [
      "True\n"
     ]
    }
   ],
   "source": [
    "with open(\"fh_practice.txt\", \"r\") as f:\n",
    "    data = f.read()\n",
    "\n",
    "print(\"learning\" in data)"
   ]
  },
  {
   "cell_type": "markdown",
   "id": "766f40b0",
   "metadata": {},
   "source": [
    "# find line number in which \"LEARNING\" exists"
   ]
  },
  {
   "cell_type": "code",
   "execution_count": null,
   "id": "5e5cab25",
   "metadata": {},
   "outputs": [
    {
     "name": "stdout",
     "output_type": "stream",
     "text": [
      "Learning found in line: 2\n"
     ]
    }
   ],
   "source": [
    "def line_finding():\n",
    "    count = 0\n",
    "    with open(\"fh_practice.txt\", \"r\") as f:\n",
    "        # ========================= Using While loop ========================\n",
    "        # line = f.readline()\n",
    "        # while line:\n",
    "        #     if \"learning\" in line:\n",
    "        #         print(f\"Learning found in line: {count + 1}\")\n",
    "        #         break\n",
    "        #     else:\n",
    "        #         count += 1\n",
    "        #         line = f.readline()\n",
    "        \n",
    "        # ========================= Using For loop ========================\n",
    "        for line in f:\n",
    "            if \"learning\" in line:\n",
    "                print(f\"Learning found in line: {count + 1}\")\n",
    "                break\n",
    "            else:\n",
    "                count += 1\n",
    "                        \n",
    "line_finding()       "
   ]
  },
  {
   "cell_type": "markdown",
   "id": "31072714",
   "metadata": {},
   "source": [
    "# find total even numbers from a file"
   ]
  },
  {
   "cell_type": "code",
   "execution_count": 96,
   "id": "41201041",
   "metadata": {},
   "outputs": [
    {
     "name": "stdout",
     "output_type": "stream",
     "text": [
      "Total Even Numbers: 7\n"
     ]
    }
   ],
   "source": [
    "count = 0\n",
    "with open(\"fh_practice_2.txt\", \"w+\") as f:\n",
    "    f.write(\"12, 43, 56, 75, 88, 90, 33, 21, 44, 66, 78\")\n",
    "    f.seek(0)\n",
    "    data = f.read()\n",
    "    nums = list(data.split(\", \"))\n",
    "    \n",
    "    for i in range(len(nums)):\n",
    "        if int(nums[i]) % 2 == 0:\n",
    "            count += 1\n",
    "\n",
    "print(f\"Total Even Numbers: {count}\")  "
   ]
  }
 ],
 "metadata": {
  "kernelspec": {
   "display_name": "python_basics",
   "language": "python",
   "name": "python3"
  },
  "language_info": {
   "codemirror_mode": {
    "name": "ipython",
    "version": 3
   },
   "file_extension": ".py",
   "mimetype": "text/x-python",
   "name": "python",
   "nbconvert_exporter": "python",
   "pygments_lexer": "ipython3",
   "version": "3.10.18"
  }
 },
 "nbformat": 4,
 "nbformat_minor": 5
}
