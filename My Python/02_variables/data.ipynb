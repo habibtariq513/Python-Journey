{
 "cells": [
  {
   "cell_type": "markdown",
   "id": "316fe31d",
   "metadata": {},
   "source": [
    "# **First NoteBook**"
   ]
  },
  {
   "cell_type": "code",
   "execution_count": 1,
   "id": "add352d4",
   "metadata": {},
   "outputs": [
    {
     "name": "stdout",
     "output_type": "stream",
     "text": [
      "Hi im learning Python\n",
      "Hello World.\n"
     ]
    }
   ],
   "source": [
    "print(\"Hi im learning Python\")\n",
    "print(\"Hello World.\")"
   ]
  },
  {
   "cell_type": "code",
   "execution_count": 2,
   "id": "83c4dcc6",
   "metadata": {},
   "outputs": [
    {
     "name": "stdout",
     "output_type": "stream",
     "text": [
      "Hello, World!\n"
     ]
    }
   ],
   "source": [
    "print(\"Hello, World!\")"
   ]
  },
  {
   "cell_type": "markdown",
   "id": "ba9a794b",
   "metadata": {},
   "source": [
    "# **3rd Day of Python**"
   ]
  },
  {
   "cell_type": "code",
   "execution_count": 1,
   "id": "9fc7269d",
   "metadata": {},
   "outputs": [
    {
     "name": "stdout",
     "output_type": "stream",
     "text": [
      "Hi it's my 3rd day here\n"
     ]
    }
   ],
   "source": [
    "print(\"Hi it's my 3rd day here\")"
   ]
  }
 ],
 "metadata": {
  "kernelspec": {
   "display_name": "python_basics",
   "language": "python",
   "name": "python3"
  },
  "language_info": {
   "codemirror_mode": {
    "name": "ipython",
    "version": 3
   },
   "file_extension": ".py",
   "mimetype": "text/x-python",
   "name": "python",
   "nbconvert_exporter": "python",
   "pygments_lexer": "ipython3",
   "version": "3.10.18"
  }
 },
 "nbformat": 4,
 "nbformat_minor": 5
}
