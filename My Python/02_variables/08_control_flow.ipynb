{
 "cells": [
  {
   "cell_type": "markdown",
   "id": "59602040",
   "metadata": {},
   "source": [
    "# **If-Else & Elif**"
   ]
  },
  {
   "cell_type": "markdown",
   "id": "a2655576",
   "metadata": {},
   "source": [
    "# Student Grading System"
   ]
  },
  {
   "cell_type": "code",
   "execution_count": 7,
   "id": "7c392bf7",
   "metadata": {},
   "outputs": [
    {
     "name": "stdout",
     "output_type": "stream",
     "text": [
      "Your Grade -> A\n"
     ]
    }
   ],
   "source": [
    "marks = int(input(\"Enter your Marks:\"))\n",
    "if marks >= 90:\n",
    "    grade = \"A\"\n",
    "elif marks < 90 and marks >= 80:\n",
    "    grade = \"B\"     \n",
    "elif marks < 80 and marks >= 70:\n",
    "    grade = \"C\"\n",
    "elif marks < 70: \n",
    "    grade = \"D\"\n",
    "else:\n",
    "    grade = \"F\"\n",
    "\n",
    "print(\"Your Grade ->\", grade)    \n"
   ]
  },
  {
   "cell_type": "markdown",
   "id": "62ed5693",
   "metadata": {},
   "source": [
    "# Check Number => Even / Odd"
   ]
  },
  {
   "cell_type": "code",
   "execution_count": 10,
   "id": "484750be",
   "metadata": {},
   "outputs": [
    {
     "name": "stdout",
     "output_type": "stream",
     "text": [
      "11 is Odd\n"
     ]
    }
   ],
   "source": [
    "number = 11\n",
    "if number % 2 == 0:\n",
    "    print(number, \"is Even\")\n",
    "else:    \n",
    "    print(number, \"is Odd\")"
   ]
  },
  {
   "cell_type": "markdown",
   "id": "aaf75082",
   "metadata": {},
   "source": [
    "# Number multiple of 7 or not"
   ]
  },
  {
   "cell_type": "code",
   "execution_count": 17,
   "id": "e4391e6b",
   "metadata": {},
   "outputs": [
    {
     "name": "stdout",
     "output_type": "stream",
     "text": [
      "42 is a multiple of 7\n"
     ]
    }
   ],
   "source": [
    "number = 42\n",
    "if number % 7 == 0:\n",
    "    print(number, \"is a multiple of 7\")\n",
    "else:    \n",
    "    print(number, \"is NOT a multiple of 7\")"
   ]
  },
  {
   "cell_type": "markdown",
   "id": "6861b1a2",
   "metadata": {},
   "source": [
    "# Greatest of 3 numbers"
   ]
  },
  {
   "cell_type": "code",
   "execution_count": 15,
   "id": "34b18a24",
   "metadata": {},
   "outputs": [
    {
     "name": "stdout",
     "output_type": "stream",
     "text": [
      "5 is the greatest than 1 and 2\n"
     ]
    }
   ],
   "source": [
    "a = 5\n",
    "b = 1\n",
    "c = 2\n",
    "if(a > b):\n",
    "    if(a > c):\n",
    "        print(a,\"is the greatest than\", b, \"and\", c)\n",
    "elif(b > c):            \n",
    "    print(b,\"is the greatest than\", c, \"and\", c)\n",
    "else:\n",
    "    print(c,\"is the greatest than\", a, \"and\", b)"
   ]
  }
 ],
 "metadata": {
  "kernelspec": {
   "display_name": "python_basics",
   "language": "python",
   "name": "python3"
  },
  "language_info": {
   "codemirror_mode": {
    "name": "ipython",
    "version": 3
   },
   "file_extension": ".py",
   "mimetype": "text/x-python",
   "name": "python",
   "nbconvert_exporter": "python",
   "pygments_lexer": "ipython3",
   "version": "3.10.18"
  }
 },
 "nbformat": 4,
 "nbformat_minor": 5
}
