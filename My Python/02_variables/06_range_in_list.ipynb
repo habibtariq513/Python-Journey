{
 "cells": [
  {
   "cell_type": "markdown",
   "id": "d107fdb8",
   "metadata": {},
   "source": [
    "# **Range to make List**"
   ]
  },
  {
   "cell_type": "code",
   "execution_count": 6,
   "id": "e6081f50",
   "metadata": {},
   "outputs": [
    {
     "name": "stdout",
     "output_type": "stream",
     "text": [
      "[0, 1, 2, 3, 4, 5, 6, 7, 8, 9, 10, 11, 12, 13, 14, 15, 16, 17, 18, 19]\n",
      "[10, 11, 12, 13, 14, 15, 16, 17, 18, 19]\n",
      "[10, 12, 14, 16, 18]\n"
     ]
    }
   ],
   "source": [
    "print(list(range(20)))  # Prints numbers from 0 to 19\n",
    "print(list(range(10, 20)))  # Prints numbers from 0 to 19\n",
    "print(list(range(10, 20, 2)))  # Prints numbers from 0 to 19"
   ]
  },
  {
   "cell_type": "markdown",
   "id": "0a7df952",
   "metadata": {},
   "source": [
    "# **Range usage in Loops**"
   ]
  },
  {
   "cell_type": "code",
   "execution_count": 7,
   "id": "2a217250",
   "metadata": {},
   "outputs": [
    {
     "name": "stdout",
     "output_type": "stream",
     "text": [
      "0\n",
      "1\n",
      "2\n",
      "3\n",
      "4\n",
      "5\n",
      "6\n",
      "7\n",
      "8\n",
      "9\n",
      "\n",
      "\n",
      "3\n",
      "4\n",
      "5\n",
      "6\n",
      "7\n",
      "8\n",
      "9\n",
      "\n",
      "\n",
      "0\n",
      "2\n",
      "4\n",
      "6\n",
      "8\n"
     ]
    }
   ],
   "source": [
    "for i in range(10): # range(stop)\n",
    "    print(i)\n",
    "print(\"\\n\")\n",
    "\n",
    "for i in range(3, 10): # range(start, stop)\n",
    "    print(i)\n",
    "print(\"\\n\")\n",
    "\n",
    "for i in range(0, 10, 2): # range(start, stop, step)\n",
    "    print(i)"
   ]
  }
 ],
 "metadata": {
  "kernelspec": {
   "display_name": "python_basics",
   "language": "python",
   "name": "python3"
  },
  "language_info": {
   "codemirror_mode": {
    "name": "ipython",
    "version": 3
   },
   "file_extension": ".py",
   "mimetype": "text/x-python",
   "name": "python",
   "nbconvert_exporter": "python",
   "pygments_lexer": "ipython3",
   "version": "3.10.18"
  }
 },
 "nbformat": 4,
 "nbformat_minor": 5
}
