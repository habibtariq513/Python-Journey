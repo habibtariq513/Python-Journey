{
 "cells": [
  {
   "cell_type": "markdown",
   "id": "0c22e0dd",
   "metadata": {},
   "source": [
    "# Variables"
   ]
  },
  {
   "cell_type": "code",
   "execution_count": 36,
   "id": "3deee4d5",
   "metadata": {},
   "outputs": [],
   "source": [
    "age = 30"
   ]
  },
  {
   "cell_type": "code",
   "execution_count": 37,
   "id": "c5e56f45",
   "metadata": {},
   "outputs": [
    {
     "name": "stdout",
     "output_type": "stream",
     "text": [
      "30\n"
     ]
    }
   ],
   "source": [
    "print(age)"
   ]
  },
  {
   "cell_type": "code",
   "execution_count": 38,
   "id": "e79ae612",
   "metadata": {},
   "outputs": [
    {
     "name": "stdout",
     "output_type": "stream",
     "text": [
      "I am 30 years old.\n"
     ]
    }
   ],
   "source": [
    "print(\"I am\", age, \"years old.\")"
   ]
  },
  {
   "cell_type": "code",
   "execution_count": 39,
   "id": "6cc8ffeb",
   "metadata": {},
   "outputs": [
    {
     "name": "stdout",
     "output_type": "stream",
     "text": [
      "Hi this is Habib here and Habib is 30 Years old\n"
     ]
    }
   ],
   "source": [
    "name = \"Habib\"\n",
    "print(\"Hi this is\",name, \"here and\", name, \"is\", age, \"Years old\" )"
   ]
  },
  {
   "cell_type": "code",
   "execution_count": 40,
   "id": "64b88751",
   "metadata": {},
   "outputs": [
    {
     "name": "stdout",
     "output_type": "stream",
     "text": [
      "Is Habib a Student: True\n"
     ]
    }
   ],
   "source": [
    "is_Student = True\n",
    "print(\"Is\",name, \"a Student:\", is_Student)"
   ]
  },
  {
   "cell_type": "code",
   "execution_count": 41,
   "id": "56f5d719",
   "metadata": {},
   "outputs": [
    {
     "name": "stdout",
     "output_type": "stream",
     "text": [
      "Height of Habib is 5.9 feet.\n"
     ]
    }
   ],
   "source": [
    "height = 5.9\n",
    "print(\"Height of\", name, \"is\", height, \"feet.\")"
   ]
  }
 ],
 "metadata": {
  "kernelspec": {
   "display_name": "python_basics",
   "language": "python",
   "name": "python3"
  },
  "language_info": {
   "codemirror_mode": {
    "name": "ipython",
    "version": 3
   },
   "file_extension": ".py",
   "mimetype": "text/x-python",
   "name": "python",
   "nbconvert_exporter": "python",
   "pygments_lexer": "ipython3",
   "version": "3.10.18"
  }
 },
 "nbformat": 4,
 "nbformat_minor": 5
}
