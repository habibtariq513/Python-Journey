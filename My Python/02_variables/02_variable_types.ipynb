{
 "cells": [
  {
   "cell_type": "markdown",
   "id": "2d57b126",
   "metadata": {},
   "source": [
    "# **Types of Variables**"
   ]
  },
  {
   "cell_type": "markdown",
   "id": "8b6b4465",
   "metadata": {},
   "source": [
    "# List "
   ]
  },
  {
   "cell_type": "code",
   "execution_count": 6,
   "id": "cdb172f4",
   "metadata": {},
   "outputs": [
    {
     "name": "stdout",
     "output_type": "stream",
     "text": [
      "[2, 3, 4]\n",
      "Type of numbers =  <class 'list'>\n"
     ]
    }
   ],
   "source": [
    "numbers = [1, 2, 3, 4, 5]\n",
    "print(numbers[1:4])\n",
    "print(\"Type of numbers = \", type(numbers))\n"
   ]
  },
  {
   "cell_type": "markdown",
   "id": "0ea9f1b4",
   "metadata": {},
   "source": [
    "# Tuple"
   ]
  },
  {
   "cell_type": "code",
   "execution_count": 2,
   "id": "be644025",
   "metadata": {},
   "outputs": [
    {
     "name": "stdout",
     "output_type": "stream",
     "text": [
      "('Habib', 'Ali', 'Zainab')\n",
      "<class 'tuple'>\n"
     ]
    }
   ],
   "source": [
    "persons = (\"Habib\", \"Ali\", \"Zainab\")\n",
    "print(persons)\n",
    "print(type(persons))"
   ]
  },
  {
   "cell_type": "markdown",
   "id": "1b7023e2",
   "metadata": {},
   "source": [
    "# Dictionary"
   ]
  },
  {
   "cell_type": "code",
   "execution_count": 6,
   "id": "9faefaf7",
   "metadata": {},
   "outputs": [
    {
     "name": "stdout",
     "output_type": "stream",
     "text": [
      "LHR\n",
      "LHR\n",
      "LHR\n"
     ]
    }
   ],
   "source": [
    "School = {\"FFS\": \"LHR\", \"Icon\": \"LHR\", \"FBS\": \"LHR\"}\n",
    "print(School[\"FFS\"])\n",
    "print(School[\"Icon\"])\n",
    "print(School[\"FBS\"])"
   ]
  },
  {
   "cell_type": "markdown",
   "id": "7417951b",
   "metadata": {},
   "source": [
    "# Set"
   ]
  },
  {
   "cell_type": "code",
   "execution_count": 7,
   "id": "3ca58d84",
   "metadata": {},
   "outputs": [
    {
     "name": "stdout",
     "output_type": "stream",
     "text": [
      "{1, 2, 3, 4, 5}\n",
      "<class 'set'>\n"
     ]
    }
   ],
   "source": [
    "counting = {5,4,2,3,1}\n",
    "print(counting)\n",
    "print(type(counting))"
   ]
  },
  {
   "cell_type": "markdown",
   "id": "f891afc5",
   "metadata": {},
   "source": [
    "# None"
   ]
  },
  {
   "cell_type": "code",
   "execution_count": 8,
   "id": "8f8460cf",
   "metadata": {},
   "outputs": [
    {
     "name": "stdout",
     "output_type": "stream",
     "text": [
      "None\n",
      "<class 'NoneType'>\n"
     ]
    }
   ],
   "source": [
    "result = None\n",
    "print(result)\n",
    "print(type(result))"
   ]
  },
  {
   "cell_type": "markdown",
   "id": "9c027401",
   "metadata": {},
   "source": [
    "# Complex\n"
   ]
  },
  {
   "cell_type": "code",
   "execution_count": 11,
   "id": "578e8cc5",
   "metadata": {},
   "outputs": [
    {
     "name": "stdout",
     "output_type": "stream",
     "text": [
      "(2+3j)\n",
      "<class 'complex'>\n"
     ]
    }
   ],
   "source": [
    "Equation = 2 + 3j\n",
    "print(Equation)\n",
    "print(type(Equation))"
   ]
  }
 ],
 "metadata": {
  "kernelspec": {
   "display_name": "python_basics",
   "language": "python",
   "name": "python3"
  },
  "language_info": {
   "codemirror_mode": {
    "name": "ipython",
    "version": 3
   },
   "file_extension": ".py",
   "mimetype": "text/x-python",
   "name": "python",
   "nbconvert_exporter": "python",
   "pygments_lexer": "ipython3",
   "version": "3.10.18"
  }
 },
 "nbformat": 4,
 "nbformat_minor": 5
}
