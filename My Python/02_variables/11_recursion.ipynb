{
 "cells": [
  {
   "cell_type": "markdown",
   "id": "1240604f",
   "metadata": {},
   "source": [
    "# **Recursion**"
   ]
  },
  {
   "cell_type": "markdown",
   "id": "1c889fc2",
   "metadata": {},
   "source": [
    "# *For sum of first n natural numbers*"
   ]
  },
  {
   "cell_type": "code",
   "execution_count": 1,
   "id": "a0f882d7",
   "metadata": {},
   "outputs": [
    {
     "name": "stdout",
     "output_type": "stream",
     "text": [
      "56\n"
     ]
    }
   ],
   "source": [
    "def sum_of_nums(n):\n",
    "    if n < 0:\n",
    "        return 1\n",
    "    else:\n",
    "        return n + sum_of_nums(n - 1)\n",
    "\n",
    "print(sum_of_nums(10))    "
   ]
  },
  {
   "cell_type": "markdown",
   "id": "1b5a554c",
   "metadata": {},
   "source": [
    "# *For all elements in a LIST*"
   ]
  },
  {
   "cell_type": "code",
   "execution_count": 14,
   "id": "7481ca35",
   "metadata": {},
   "outputs": [
    {
     "name": "stdout",
     "output_type": "stream",
     "text": [
      "John Jane Doe Smith Emily "
     ]
    }
   ],
   "source": [
    "def name_list(n, list):\n",
    "    if n <= 0:\n",
    "        return \n",
    "    else:        \n",
    "        print(list[-n], end = \" \") \n",
    "        name_list(n - 1, list)\n",
    "\n",
    "list = ['John', 'Jane', 'Doe', 'Smith', 'Emily']\n",
    "name_list(len(list), list) "
   ]
  }
 ],
 "metadata": {
  "kernelspec": {
   "display_name": "python_basics",
   "language": "python",
   "name": "python3"
  },
  "language_info": {
   "codemirror_mode": {
    "name": "ipython",
    "version": 3
   },
   "file_extension": ".py",
   "mimetype": "text/x-python",
   "name": "python",
   "nbconvert_exporter": "python",
   "pygments_lexer": "ipython3",
   "version": "3.10.18"
  }
 },
 "nbformat": 4,
 "nbformat_minor": 5
}
