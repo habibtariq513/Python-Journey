{
 "cells": [
  {
   "cell_type": "markdown",
   "id": "79642842",
   "metadata": {},
   "source": [
    "# **Indexing**"
   ]
  },
  {
   "cell_type": "code",
   "execution_count": 7,
   "id": "7f8ebe26",
   "metadata": {},
   "outputs": [
    {
     "name": "stdout",
     "output_type": "stream",
     "text": [
      "8\n",
      "C\n",
      "odanic\n",
      "odanics\n",
      "anic\n"
     ]
    }
   ],
   "source": [
    "name = \"Codanics\"\n",
    "print(len(name))\n",
    "print(name[0])  # First character\n",
    "\n",
    "# Slicing\n",
    "print(name[1 : 7]) # From index 1 to 6\n",
    "print(name[1 : ])\n",
    "\n",
    "# Negative Indexing\n",
    "print(name[-5 : -1])"
   ]
  },
  {
   "cell_type": "markdown",
   "id": "027556ca",
   "metadata": {},
   "source": [
    "# **Slicing**"
   ]
  },
  {
   "cell_type": "code",
   "execution_count": 11,
   "id": "31d353d0",
   "metadata": {},
   "outputs": [
    {
     "name": "stdout",
     "output_type": "stream",
     "text": [
      "[10, 30, 50, 70, 90]\n",
      "[10, 30, 50, 70, 90]\n",
      "[10, 30, 50, 70]\n",
      "[100, 80, 60, 40, 20]\n"
     ]
    }
   ],
   "source": [
    "numbers = [10, 20, 30, 40, 50, 60, 70, 80, 90, 100]\n",
    "print(numbers[0 : 10 : 2])  # Slicing with step, 2 is used for STEP\n",
    "print(numbers[:: 2])  # if start and end are omitted, it defaults to the whole list\n",
    "print(numbers[0 : -2 : 2])  # Slicing with negative index\n",
    "print(numbers[-1 : -11 : -2])  # Slicing with negative index and"
   ]
  }
 ],
 "metadata": {
  "kernelspec": {
   "display_name": "python_basics",
   "language": "python",
   "name": "python3"
  },
  "language_info": {
   "codemirror_mode": {
    "name": "ipython",
    "version": 3
   },
   "file_extension": ".py",
   "mimetype": "text/x-python",
   "name": "python",
   "nbconvert_exporter": "python",
   "pygments_lexer": "ipython3",
   "version": "3.10.18"
  }
 },
 "nbformat": 4,
 "nbformat_minor": 5
}
