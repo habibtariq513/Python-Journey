{
 "cells": [
  {
   "cell_type": "markdown",
   "id": "7f844b78",
   "metadata": {},
   "source": [
    "# **Loops**"
   ]
  },
  {
   "cell_type": "markdown",
   "id": "a28c2a95",
   "metadata": {},
   "source": [
    "# **1) While Loop**"
   ]
  },
  {
   "cell_type": "markdown",
   "id": "ca76d306",
   "metadata": {},
   "source": [
    "# Print numbers 1 to 100"
   ]
  },
  {
   "cell_type": "code",
   "execution_count": 3,
   "id": "af0802d4",
   "metadata": {},
   "outputs": [
    {
     "name": "stdout",
     "output_type": "stream",
     "text": [
      "1\n",
      "2\n",
      "3\n",
      "4\n",
      "5\n"
     ]
    }
   ],
   "source": [
    "num = 1\n",
    "while num <= 5:\n",
    "    print(num)\n",
    "    num +=1"
   ]
  },
  {
   "cell_type": "markdown",
   "id": "33c73623",
   "metadata": {},
   "source": [
    "# Print numbers 100 to 1"
   ]
  },
  {
   "cell_type": "code",
   "execution_count": 4,
   "id": "baea63f4",
   "metadata": {},
   "outputs": [
    {
     "name": "stdout",
     "output_type": "stream",
     "text": [
      "5\n",
      "4\n",
      "3\n",
      "2\n",
      "1\n"
     ]
    }
   ],
   "source": [
    "num = 5\n",
    "while num >= 1:\n",
    "    print(num)\n",
    "    num -=1"
   ]
  },
  {
   "cell_type": "markdown",
   "id": "32905a4a",
   "metadata": {},
   "source": [
    "# Print multiplication table of a number n"
   ]
  },
  {
   "cell_type": "code",
   "execution_count": 5,
   "id": "13a23309",
   "metadata": {},
   "outputs": [
    {
     "name": "stdout",
     "output_type": "stream",
     "text": [
      "5 * 1 = 5\n",
      "5 * 2 = 10\n",
      "5 * 3 = 15\n",
      "5 * 4 = 20\n",
      "5 * 5 = 25\n",
      "5 * 6 = 30\n",
      "5 * 7 = 35\n",
      "5 * 8 = 40\n",
      "5 * 9 = 45\n",
      "5 * 10 = 50\n"
     ]
    }
   ],
   "source": [
    "num = 5\n",
    "count = 1\n",
    "while count <= 10:\n",
    "    print(num, \"*\", count, \"=\", num * count)\n",
    "    count +=1"
   ]
  },
  {
   "cell_type": "markdown",
   "id": "ed59ae4f",
   "metadata": {},
   "source": [
    "# Print Elements of list"
   ]
  },
  {
   "cell_type": "code",
   "execution_count": 7,
   "id": "76edad0e",
   "metadata": {},
   "outputs": [
    {
     "name": "stdout",
     "output_type": "stream",
     "text": [
      "1\n",
      "4\n",
      "16\n",
      "25\n",
      "36\n",
      "49\n",
      "64\n",
      "81\n",
      "9\n",
      "100\n"
     ]
    }
   ],
   "source": [
    "list_of_numbers = [1, 4, 16, 25, 36, 49, 64, 81, 9, 100]\n",
    "count = 0\n",
    "while count < 10:\n",
    "    print(list_of_numbers[count])\n",
    "    count +=1"
   ]
  },
  {
   "cell_type": "markdown",
   "id": "ecd4f197",
   "metadata": {},
   "source": [
    "# Search for a number X in the tuple using loop"
   ]
  },
  {
   "cell_type": "code",
   "execution_count": null,
   "id": "67aa54a2",
   "metadata": {},
   "outputs": [
    {
     "name": "stdout",
     "output_type": "stream",
     "text": [
      "36 found at index 4\n"
     ]
    }
   ],
   "source": [
    "list_of_numbers = (1, 4, 16, 25, 36, 49, 64, 81, 9, 100)\n",
    "count = 0\n",
    "x = 36\n",
    "while count < 10:\n",
    "    if list_of_numbers[count] == x:\n",
    "        print(x, \"found at index\", count)\n",
    "    count += 1"
   ]
  },
  {
   "cell_type": "markdown",
   "id": "6ad78807",
   "metadata": {},
   "source": [
    "# **Break Keyword**"
   ]
  },
  {
   "cell_type": "code",
   "execution_count": 10,
   "id": "78e38f84",
   "metadata": {},
   "outputs": [
    {
     "name": "stdout",
     "output_type": "stream",
     "text": [
      "Both are equal\n",
      "Adil is 10 Years old\n"
     ]
    }
   ],
   "source": [
    "ahmed_age = 10\n",
    "adil_age = 5\n",
    "while(adil_age <= 10):\n",
    "    if adil_age == ahmed_age:\n",
    "        print(\"Both are equal\")\n",
    "        print(\"Adil is\", adil_age,\"Years old\")\n",
    "        break # Break Keyword\n",
    "    else:        \n",
    "        adil_age += 1"
   ]
  },
  {
   "cell_type": "markdown",
   "id": "39d6b2ad",
   "metadata": {},
   "source": [
    "# **Continue Keyword**"
   ]
  },
  {
   "cell_type": "code",
   "execution_count": 15,
   "id": "23e318e6",
   "metadata": {},
   "outputs": [
    {
     "name": "stdout",
     "output_type": "stream",
     "text": [
      "0\n",
      "1\n",
      "6\n",
      "7\n",
      "8\n",
      "9\n",
      "10\n"
     ]
    }
   ],
   "source": [
    "i = 0\n",
    "while i <= 10: #<------------------------\n",
    "    if i >= 2 and i <= 5:             # | \n",
    "        i += 1                        # | \n",
    "        continue # Continue Keyword  ----\n",
    "        # Continue statement se control While condition par chala jata hai\n",
    "    else:\n",
    "        print(i)\n",
    "        i += 1"
   ]
  },
  {
   "cell_type": "markdown",
   "id": "2cfa0316",
   "metadata": {},
   "source": [
    "# **2) For Loop**"
   ]
  },
  {
   "cell_type": "code",
   "execution_count": 28,
   "id": "ed0e4781",
   "metadata": {},
   "outputs": [
    {
     "name": "stdout",
     "output_type": "stream",
     "text": [
      "1\n",
      "4\n",
      "16\n",
      "25\n",
      "36\n",
      "\n",
      "\n",
      "Potato\n",
      "Tomato\n",
      "Onion\n",
      "Carrot\n",
      "\n",
      "THE END\n"
     ]
    }
   ],
   "source": [
    "list_of_numbers = [1, 4, 16, 25, 36]\n",
    "for number in list_of_numbers:\n",
    "    print(number)\n",
    "\n",
    "print(\"\\n\")\n",
    "\n",
    "vegetables = [\"Potato\", \"Tomato\", \"Onion\", \"Carrot\"]\n",
    "for vegetable in vegetables:\n",
    "    print(vegetable)\n",
    "else: # It's totally Optional\n",
    "    print(\"\\nTHE END\")"
   ]
  },
  {
   "cell_type": "markdown",
   "id": "b158b6f7",
   "metadata": {},
   "source": [
    "# Search X in tuple"
   ]
  },
  {
   "cell_type": "code",
   "execution_count": 34,
   "id": "7374b911",
   "metadata": {},
   "outputs": [
    {
     "name": "stdout",
     "output_type": "stream",
     "text": [
      "49 found at 5 index\n"
     ]
    }
   ],
   "source": [
    "list_of_numbers = (1, 4, 16, 25, 36, 49, 64, 81, 100)\n",
    "x = 49\n",
    "index = 0  # ye hum ne khd se index bnaya hai q k Tuple ma indexing nahi hoti\n",
    "for i in list_of_numbers:\n",
    "    if i == x:\n",
    "        print(x, \"found at\", index, \"index\")\n",
    "    index += 1"
   ]
  },
  {
   "cell_type": "markdown",
   "id": "3ae10ecd",
   "metadata": {},
   "source": [
    "# Print numbers from 1 to 100 using for loop and range() function"
   ]
  },
  {
   "cell_type": "code",
   "execution_count": 43,
   "id": "988f9cfb",
   "metadata": {},
   "outputs": [
    {
     "name": "stdout",
     "output_type": "stream",
     "text": [
      "0\n",
      "1\n",
      "2\n",
      "3\n",
      "4\n",
      "\n",
      "\n"
     ]
    }
   ],
   "source": [
    "for i in range(5):\n",
    "    print(i)\n",
    "print(\"\\n\")"
   ]
  },
  {
   "cell_type": "markdown",
   "id": "d658858d",
   "metadata": {},
   "source": [
    "# Print numbers from 100 to 1 using fro loop and range() function"
   ]
  },
  {
   "cell_type": "code",
   "execution_count": 44,
   "id": "317a6381",
   "metadata": {},
   "outputs": [
    {
     "name": "stdout",
     "output_type": "stream",
     "text": [
      "-5\n",
      "-4\n",
      "-3\n",
      "-2\n",
      "-1\n",
      "\n",
      "\n"
     ]
    }
   ],
   "source": [
    "for i in range(-5, 0):\n",
    "    print(i)\n",
    "print(\"\\n\")"
   ]
  },
  {
   "cell_type": "markdown",
   "id": "cd31cf42",
   "metadata": {},
   "source": [
    "# Print multiplication table of a number n using For and Range()"
   ]
  },
  {
   "cell_type": "code",
   "execution_count": 45,
   "id": "50d5b23a",
   "metadata": {},
   "outputs": [
    {
     "name": "stdout",
     "output_type": "stream",
     "text": [
      "5 * 1 = 5\n",
      "5 * 2 = 10\n",
      "5 * 3 = 15\n",
      "5 * 4 = 20\n",
      "5 * 5 = 25\n",
      "5 * 6 = 30\n",
      "5 * 7 = 35\n",
      "5 * 8 = 40\n",
      "5 * 9 = 45\n",
      "5 * 10 = 50\n",
      "\n",
      "\n"
     ]
    }
   ],
   "source": [
    "num = 5\n",
    "for i in range(1, 11):\n",
    "    print(num, \"*\", i , \"=\", num * i)\n",
    "print(\"\\n\")"
   ]
  },
  {
   "cell_type": "markdown",
   "id": "0cead712",
   "metadata": {},
   "source": [
    "# Print SUM of first N numbers using WHILE LOOP"
   ]
  },
  {
   "cell_type": "code",
   "execution_count": 63,
   "id": "627c736d",
   "metadata": {},
   "outputs": [
    {
     "name": "stdout",
     "output_type": "stream",
     "text": [
      "Sum of all numbers: 55\n",
      "\n",
      "\n"
     ]
    }
   ],
   "source": [
    "i = 1\n",
    "sum = 0\n",
    "while i <= 10:\n",
    "    sum += i\n",
    "    i += 1\n",
    "\n",
    "print(\"Sum of all numbers:\",sum)\n",
    "print(\"\\n\")"
   ]
  },
  {
   "cell_type": "markdown",
   "id": "db53b541",
   "metadata": {},
   "source": [
    "# Print Factorial of first N numbers using FOR LOOP"
   ]
  },
  {
   "cell_type": "code",
   "execution_count": 62,
   "id": "d64bec5d",
   "metadata": {},
   "outputs": [
    {
     "name": "stdout",
     "output_type": "stream",
     "text": [
      "j =  1 , Factorial =  1\n",
      "j =  2 , Factorial =  2\n",
      "j =  3 , Factorial =  6\n",
      "j =  4 , Factorial =  24\n",
      "j =  5 , Factorial =  120\n",
      "j =  6 , Factorial =  720\n"
     ]
    }
   ],
   "source": [
    "j = 1\n",
    "fact = 1\n",
    "num = 6\n",
    "for j in range(j, num + 1):\n",
    "    fact *= j\n",
    "    print(\"j = \", j, \", Factorial = \", fact)\n",
    "    j += 1"
   ]
  }
 ],
 "metadata": {
  "kernelspec": {
   "display_name": "python_basics",
   "language": "python",
   "name": "python3"
  },
  "language_info": {
   "codemirror_mode": {
    "name": "ipython",
    "version": 3
   },
   "file_extension": ".py",
   "mimetype": "text/x-python",
   "name": "python",
   "nbconvert_exporter": "python",
   "pygments_lexer": "ipython3",
   "version": "3.10.18"
  }
 },
 "nbformat": 4,
 "nbformat_minor": 5
}
