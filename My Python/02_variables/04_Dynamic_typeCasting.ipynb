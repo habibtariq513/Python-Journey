{
 "cells": [
  {
   "cell_type": "markdown",
   "id": "e334d86a",
   "metadata": {},
   "source": [
    "# Implicit Type Casting"
   ]
  },
  {
   "cell_type": "code",
   "execution_count": null,
   "id": "ad2e5766",
   "metadata": {},
   "outputs": [
    {
     "name": "stdout",
     "output_type": "stream",
     "text": [
      "9.5\n"
     ]
    }
   ],
   "source": [
    "a = 5\n",
    "b= 4.5\n",
    "c = a + b     # 5 + 4.5\n",
    "print(c)    "
   ]
  },
  {
   "cell_type": "markdown",
   "id": "cc8b7a58",
   "metadata": {},
   "source": [
    "# Dynamic Type Casting in Operators"
   ]
  },
  {
   "cell_type": "code",
   "execution_count": 4,
   "id": "133f1b30",
   "metadata": {},
   "outputs": [
    {
     "name": "stdout",
     "output_type": "stream",
     "text": [
      "The entered Number is: 1.1111 and its type is:<class 'float'>\n"
     ]
    }
   ],
   "source": [
    "user_input = input(\"Enter a number: \")\n",
    "if '.' in user_input:\n",
    "    num = float(user_input)\n",
    "else:\n",
    "    num = int(user_input)\n",
    "\n",
    "print(f\"The entered Number is: {num} and its type is:{type(num)}\")  "
   ]
  },
  {
   "cell_type": "markdown",
   "id": "c694d27d",
   "metadata": {},
   "source": [
    "# Dynamic Type Casting using **eval()** function"
   ]
  },
  {
   "cell_type": "code",
   "execution_count": null,
   "id": "d55897e6",
   "metadata": {},
   "outputs": [
    {
     "name": "stdout",
     "output_type": "stream",
     "text": [
      "The entered Number is: 1.24 and its type is:<class 'float'>\n"
     ]
    }
   ],
   "source": [
    "# Ye Automatically judje karta hai ki input integer hai ya float\n",
    "user_input = input(\"Enter a number: \")\n",
    "num = eval(user_input) \n",
    "\n",
    "print(f\"The entered Number is: {num} and its type is:{type(num)}\")  "
   ]
  },
  {
   "cell_type": "markdown",
   "id": "75dbf3b0",
   "metadata": {},
   "source": [
    "# Dynamic Type Casting by Changing Variables"
   ]
  },
  {
   "cell_type": "code",
   "execution_count": 7,
   "id": "0d90ff8d",
   "metadata": {},
   "outputs": [
    {
     "name": "stdout",
     "output_type": "stream",
     "text": [
      "<class 'int'>\n",
      "<class 'str'>\n",
      "<class 'float'>\n"
     ]
    }
   ],
   "source": [
    "x = 10\n",
    "print(type(x))  \n",
    "\n",
    "x = \"Python\"\n",
    "print(type(x))  \n",
    "\n",
    "x = 3.456\n",
    "print(type(x))  "
   ]
  }
 ],
 "metadata": {
  "kernelspec": {
   "display_name": "python_basics",
   "language": "python",
   "name": "python3"
  },
  "language_info": {
   "codemirror_mode": {
    "name": "ipython",
    "version": 3
   },
   "file_extension": ".py",
   "mimetype": "text/x-python",
   "name": "python",
   "nbconvert_exporter": "python",
   "pygments_lexer": "ipython3",
   "version": "3.10.18"
  }
 },
 "nbformat": 4,
 "nbformat_minor": 5
}
