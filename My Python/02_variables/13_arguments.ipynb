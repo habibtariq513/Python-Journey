{
 "cells": [
  {
   "cell_type": "markdown",
   "id": "44ed5313",
   "metadata": {},
   "source": [
    "# ***args**"
   ]
  },
  {
   "cell_type": "code",
   "execution_count": null,
   "id": "9d2d5b7b",
   "metadata": {},
   "outputs": [
    {
     "name": "stdout",
     "output_type": "stream",
     "text": [
      "8\n",
      "(4, 2, 3, 4, 5)\n"
     ]
    }
   ],
   "source": [
    "# Without *args\n",
    "def operation(x, y):\n",
    "    return x * y\n",
    "print(operation(4, 2)) \n",
    "\n",
    "# With *args\n",
    "def operation(*numbers):\n",
    "    print(numbers)\n",
    "operation(4, 2, 3, 4, 5) \n"
   ]
  },
  {
   "cell_type": "markdown",
   "id": "cf31beb6",
   "metadata": {},
   "source": [
    "# ****args**"
   ]
  },
  {
   "cell_type": "code",
   "execution_count": null,
   "id": "d38dd871",
   "metadata": {},
   "outputs": [
    {
     "name": "stdout",
     "output_type": "stream",
     "text": [
      "name: John\n",
      "age: 25\n",
      "city: New York\n"
     ]
    }
   ],
   "source": [
    "# With **args\n",
    "def detail(**info):\n",
    "    for data in info:\n",
    "        print(f\"{data} : {info[data]}\")\n",
    "\n",
    "detail(name=\"John\", age=25, city=\"New York\") "
   ]
  }
 ],
 "metadata": {
  "kernelspec": {
   "display_name": "python_basics",
   "language": "python",
   "name": "python3"
  },
  "language_info": {
   "codemirror_mode": {
    "name": "ipython",
    "version": 3
   },
   "file_extension": ".py",
   "mimetype": "text/x-python",
   "name": "python",
   "nbconvert_exporter": "python",
   "pygments_lexer": "ipython3",
   "version": "3.10.18"
  }
 },
 "nbformat": 4,
 "nbformat_minor": 5
}
