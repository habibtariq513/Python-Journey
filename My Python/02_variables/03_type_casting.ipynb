{
 "cells": [
  {
   "cell_type": "markdown",
   "id": "90cbcc4d",
   "metadata": {},
   "source": [
    "# **Type Casting**"
   ]
  },
  {
   "cell_type": "markdown",
   "id": "c83cff65",
   "metadata": {},
   "source": [
    "# 1) Int -> Float"
   ]
  },
  {
   "cell_type": "code",
   "execution_count": 4,
   "id": "b1faad35",
   "metadata": {},
   "outputs": [
    {
     "name": "stdout",
     "output_type": "stream",
     "text": [
      "10.0\n",
      "10\n"
     ]
    }
   ],
   "source": [
    "int_num = 10\n",
    "float_num = float(int_num)\n",
    "print(float_num)\n",
    "print(int_num)"
   ]
  },
  {
   "cell_type": "markdown",
   "id": "3f072df5",
   "metadata": {},
   "source": [
    "# 2) Float -> Int"
   ]
  },
  {
   "cell_type": "code",
   "execution_count": 5,
   "id": "f9bf5262",
   "metadata": {},
   "outputs": [
    {
     "name": "stdout",
     "output_type": "stream",
     "text": [
      "10\n",
      "10.45\n"
     ]
    }
   ],
   "source": [
    "float_num = 10.45\n",
    "int_num = int(float_num)\n",
    "print(int_num)\n",
    "print(float_num)"
   ]
  },
  {
   "cell_type": "markdown",
   "id": "16f1be94",
   "metadata": {},
   "source": [
    "# 3) Int or Float => String"
   ]
  },
  {
   "cell_type": "code",
   "execution_count": 12,
   "id": "9ccd9871",
   "metadata": {},
   "outputs": [
    {
     "name": "stdout",
     "output_type": "stream",
     "text": [
      "Height of the person is  5.9  feet\n",
      "No of Men are  10\n",
      "<class 'str'>\n",
      "<class 'str'>\n"
     ]
    }
   ],
   "source": [
    "height = 5.9\n",
    "No_of_Men = 10\n",
    "height_str = str(height)\n",
    "No_of_Men_str = str(No_of_Men)\n",
    "print(\"Height of the person is \" , height_str,  \" feet\")\n",
    "print(\"No of Men are \" , No_of_Men_str)\n",
    "print(type(\"Height of the person is \" + height_str +  \" feet\"))\n",
    "print(type(\"No of Men are \" + No_of_Men_str))\n",
    "\n"
   ]
  },
  {
   "cell_type": "markdown",
   "id": "4a0e2914",
   "metadata": {},
   "source": [
    "# 4) String => Int or Float "
   ]
  },
  {
   "cell_type": "code",
   "execution_count": 21,
   "id": "58835151",
   "metadata": {},
   "outputs": [
    {
     "name": "stdout",
     "output_type": "stream",
     "text": [
      "Height of the person is  5  feet\n",
      "No of Men are  10.55\n",
      "<class 'int'>\n",
      "<class 'float'>\n"
     ]
    }
   ],
   "source": [
    "height = \"5\"\n",
    "No_of_Men = \"10.55\"\n",
    "height_int = int(height)\n",
    "No_of_Men_flt = float(No_of_Men)\n",
    "print(\"Height of the person is \" , height_int,  \" feet\")\n",
    "print(\"No of Men are \" , No_of_Men_flt)\n",
    "print(type(  height_int ))\n",
    "print(type( No_of_Men_flt))\n",
    "\n"
   ]
  },
  {
   "cell_type": "markdown",
   "id": "69a06112",
   "metadata": {},
   "source": [
    "# 5) List => Tuple "
   ]
  },
  {
   "cell_type": "code",
   "execution_count": 24,
   "id": "35ef6227",
   "metadata": {},
   "outputs": [
    {
     "name": "stdout",
     "output_type": "stream",
     "text": [
      "(10, 20, 30)\n",
      " \n"
     ]
    }
   ],
   "source": [
    "Total_students = [10, 20, 30]\n",
    "Total_students_tuple = tuple(Total_students)\n",
    "print(Total_students_tuple) \n",
    "print(\" \") \n"
   ]
  },
  {
   "cell_type": "markdown",
   "id": "f82b105e",
   "metadata": {},
   "source": [
    "# 6) Tuple => List "
   ]
  },
  {
   "cell_type": "code",
   "execution_count": 2,
   "id": "a41aaa1e",
   "metadata": {},
   "outputs": [
    {
     "name": "stdout",
     "output_type": "stream",
     "text": [
      "[10, 20, 30]\n",
      " \n"
     ]
    }
   ],
   "source": [
    "Total_students = (10, 20, 30)\n",
    "Total_students_list = list(Total_students)\n",
    "print(Total_students_list) \n",
    "print(\" \") "
   ]
  },
  {
   "cell_type": "markdown",
   "id": "3bc3e5f0",
   "metadata": {},
   "source": [
    "# 7) List => Set "
   ]
  },
  {
   "cell_type": "code",
   "execution_count": 6,
   "id": "37400c30",
   "metadata": {},
   "outputs": [
    {
     "name": "stdout",
     "output_type": "stream",
     "text": [
      "{10, 20, 30}\n",
      " \n"
     ]
    }
   ],
   "source": [
    "Total_students_list = [10, 20, 30]\n",
    "Total_students_set = set(Total_students_list)\n",
    "print(Total_students_set) \n",
    "print(\" \") \n"
   ]
  },
  {
   "cell_type": "markdown",
   "id": "cd9bcde9",
   "metadata": {},
   "source": [
    "# 8) Set => List "
   ]
  },
  {
   "cell_type": "code",
   "execution_count": 7,
   "id": "b44d7dae",
   "metadata": {},
   "outputs": [
    {
     "name": "stdout",
     "output_type": "stream",
     "text": [
      "[10, 20, 30]\n",
      " \n"
     ]
    }
   ],
   "source": [
    "Total_students_set = [10, 20, 30]\n",
    "Total_students_list = list(Total_students_set)\n",
    "print(Total_students_list) \n",
    "print(\" \") \n"
   ]
  },
  {
   "cell_type": "markdown",
   "id": "e5875341",
   "metadata": {},
   "source": [
    "# 9) To Bool"
   ]
  },
  {
   "cell_type": "code",
   "execution_count": null,
   "id": "09fb5c82",
   "metadata": {},
   "outputs": [
    {
     "name": "stdout",
     "output_type": "stream",
     "text": [
      "True\n"
     ]
    }
   ],
   "source": [
    "num = 10\n",
    "num_bool = bool(num)\n",
    "print(num_bool)"
   ]
  },
  {
   "cell_type": "markdown",
   "id": "87f5c5ef",
   "metadata": {},
   "source": [
    "# 10) List => Bool"
   ]
  },
  {
   "cell_type": "code",
   "execution_count": 1,
   "id": "a4fd29eb",
   "metadata": {},
   "outputs": [
    {
     "name": "stdout",
     "output_type": "stream",
     "text": [
      "False\n"
     ]
    }
   ],
   "source": [
    "empty_list = []\n",
    "num_bool = bool(empty_list)\n",
    "print(num_bool)"
   ]
  }
 ],
 "metadata": {
  "kernelspec": {
   "display_name": "python_basics",
   "language": "python",
   "name": "python3"
  },
  "language_info": {
   "codemirror_mode": {
    "name": "ipython",
    "version": 3
   },
   "file_extension": ".py",
   "mimetype": "text/x-python",
   "name": "python",
   "nbconvert_exporter": "python",
   "pygments_lexer": "ipython3",
   "version": "3.10.18"
  }
 },
 "nbformat": 4,
 "nbformat_minor": 5
}
