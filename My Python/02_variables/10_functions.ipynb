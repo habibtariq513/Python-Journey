{
 "cells": [
  {
   "cell_type": "markdown",
   "id": "d1b5ec6a",
   "metadata": {},
   "source": [
    "# **Functions**"
   ]
  },
  {
   "cell_type": "markdown",
   "id": "acc128e0",
   "metadata": {},
   "source": [
    "# List using Functions"
   ]
  },
  {
   "cell_type": "code",
   "execution_count": 2,
   "id": "b731e614",
   "metadata": {},
   "outputs": [
    {
     "name": "stdout",
     "output_type": "stream",
     "text": [
      "Length of List: 7\n",
      "1 2 6 7 8 9 10 "
     ]
    }
   ],
   "source": [
    "def get_length(list_length):\n",
    "    print(\"Length of List:\", len(list_length))\n",
    "    for i in list_length:\n",
    "        print(i, end = \" \")\n",
    "    \n",
    "\n",
    "list_length = [1,2,6,7,8,9,10]\n",
    "get_length(list_length)"
   ]
  },
  {
   "cell_type": "markdown",
   "id": "a7c31c75",
   "metadata": {},
   "source": [
    "# Factorial using Function"
   ]
  },
  {
   "cell_type": "code",
   "execution_count": 9,
   "id": "3613d510",
   "metadata": {},
   "outputs": [
    {
     "name": "stdout",
     "output_type": "stream",
     "text": [
      "720\n"
     ]
    }
   ],
   "source": [
    "def get_factorial(n, f):\n",
    "    for i in range(1, n+1):\n",
    "        f *= i\n",
    "        \n",
    "    print(f)\n",
    "\n",
    "n = 6\n",
    "f = 1\n",
    "get_factorial(n, f)"
   ]
  },
  {
   "cell_type": "markdown",
   "id": "b05e6003",
   "metadata": {},
   "source": [
    "# USD to INR"
   ]
  },
  {
   "cell_type": "code",
   "execution_count": 6,
   "id": "83afaf0f",
   "metadata": {},
   "outputs": [
    {
     "name": "stdout",
     "output_type": "stream",
     "text": [
      "13000 INR = 149.19 USD\n",
      "1300 USD = 113282.00 INR\n"
     ]
    }
   ],
   "source": [
    "def convert(USD_in_Ind, INR):    \n",
    "    print(f\"{INR} INR = {(INR / USD_in_Ind):.2f} USD\")\n",
    "    print(f\"{USD} USD = {(USD * USD_in_Ind):.2f} INR\")\n",
    "\n",
    "USD_in_Ind = 87.14\n",
    "USD = 1300 # 13000 $\n",
    "INR = 13000\n",
    "convert(USD_in_Ind, INR)"
   ]
  }
 ],
 "metadata": {
  "kernelspec": {
   "display_name": "python_basics",
   "language": "python",
   "name": "python3"
  },
  "language_info": {
   "codemirror_mode": {
    "name": "ipython",
    "version": 3
   },
   "file_extension": ".py",
   "mimetype": "text/x-python",
   "name": "python",
   "nbconvert_exporter": "python",
   "pygments_lexer": "ipython3",
   "version": "3.10.18"
  }
 },
 "nbformat": 4,
 "nbformat_minor": 5
}
