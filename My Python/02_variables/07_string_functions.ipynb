{
 "cells": [
  {
   "cell_type": "markdown",
   "id": "0295b3de",
   "metadata": {},
   "source": [
    "# **String Functions**\n",
    " - str.endswith()  # Returns TRUE or FALSE to ensure us whether the string ends with substr or not.\n",
    " - str.capitalize()  # Capitalize 1st character\n",
    " - str.replace(old, new)  # replace all occurrences of old\n",
    " - str.find()  # Returns 1st index of 1st occurrence\n",
    " - str.count()  # counts the occurence of substr"
   ]
  },
  {
   "cell_type": "code",
   "execution_count": null,
   "id": "c9e005b0",
   "metadata": {},
   "outputs": [
    {
     "name": "stdout",
     "output_type": "stream",
     "text": [
      "True\n",
      "Actual String:  i am  a Coder\n"
     ]
    }
   ],
   "source": [
    "#str.endswith()\n",
    "# Returns TRUE or FALSE to ensure us whether the string ends with substr or not.\n",
    "\n",
    "str = \"i am  a Coder\"\n",
    "print(str.endswith(\"er\"))\n",
    "print(\"Actual String: \", str)"
   ]
  },
  {
   "cell_type": "code",
   "execution_count": null,
   "id": "345b0ebc",
   "metadata": {},
   "outputs": [
    {
     "name": "stdout",
     "output_type": "stream",
     "text": [
      "I am  a coder\n",
      "Actual String:  i am  a Coder\n"
     ]
    }
   ],
   "source": [
    "# str.capitalize()\n",
    "# Capitalize 1st character\n",
    "\n",
    "print(str.capitalize())\n",
    "print(\"Actual String: \", str)"
   ]
  },
  {
   "cell_type": "code",
   "execution_count": null,
   "id": "747a2d52",
   "metadata": {},
   "outputs": [
    {
     "name": "stdout",
     "output_type": "stream",
     "text": [
      "i am  a Programmer of Python\n",
      "Actual String:  i am  a Coder\n"
     ]
    }
   ],
   "source": [
    "# str.replace(old, new)  \n",
    "# replace all occurrences of old\n",
    "\n",
    "print(str.replace(\"Coder\", \"Programmer of Python\"))\n",
    "print(\"Actual String: \", str)"
   ]
  },
  {
   "cell_type": "code",
   "execution_count": null,
   "id": "a00be5dd",
   "metadata": {},
   "outputs": [
    {
     "name": "stdout",
     "output_type": "stream",
     "text": [
      "Total words: 9\n",
      "Actual String: i am  a Coder\n"
     ]
    }
   ],
   "source": [
    "#str.find()\n",
    "# Returns 1st index of 1st occurrence\n",
    "\n",
    "print(\"Total words:\", str.find(\"o\"))\n",
    "print(\"Actual String:\", str)\n"
   ]
  },
  {
   "cell_type": "code",
   "execution_count": 19,
   "id": "d76cebd7",
   "metadata": {},
   "outputs": [
    {
     "name": "stdout",
     "output_type": "stream",
     "text": [
      "Total Occurrences: 1\n",
      "Actual String: i am  a Coder\n"
     ]
    }
   ],
   "source": [
    "#str.count()\n",
    "# counts the occurence of substr\n",
    "\n",
    "print(\"Total Occurrences:\", str.count(\"am\"))\n",
    "print(\"Actual String:\", str)"
   ]
  }
 ],
 "metadata": {
  "kernelspec": {
   "display_name": "python_basics",
   "language": "python",
   "name": "python3"
  },
  "language_info": {
   "codemirror_mode": {
    "name": "ipython",
    "version": 3
   },
   "file_extension": ".py",
   "mimetype": "text/x-python",
   "name": "python",
   "nbconvert_exporter": "python",
   "pygments_lexer": "ipython3",
   "version": "3.10.18"
  }
 },
 "nbformat": 4,
 "nbformat_minor": 5
}
